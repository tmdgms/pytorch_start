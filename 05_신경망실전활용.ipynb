{
 "cells": [
  {
   "cell_type": "markdown",
   "metadata": {},
   "source": [
    "# 05. 신경망 실전 활용"
   ]
  },
  {
   "cell_type": "markdown",
   "metadata": {},
   "source": [
    "##### 퍼셉트론 알고리즘 -> 퍼셉트론 모형 학습 -> 신경망 알고리즘 -> 신경망 모형학습"
   ]
  },
  {
   "cell_type": "markdown",
   "metadata": {},
   "source": [
    "### 1) 퍼셉트론 알고리즘"
   ]
  },
  {
   "attachments": {},
   "cell_type": "markdown",
   "metadata": {},
   "source": [
    "- 지도학습 & 분류알고리즘\n",
    "\n",
    "![image.png](https://image.slidesharecdn.com/lecture29-convolutionalneuralnetworks-visionspring2015-150504114140-conversion-gate02/95/lecture-29-convolutional-neural-networks-computer-vision-spring2015-9-638.jpg?cb=1430740006)\n"
   ]
  },
  {
   "cell_type": "markdown",
   "metadata": {},
   "source": [
    "- 설명변수(input)             : $x1, x2, ..$\n",
    "- 목적변수(step(output)) : $\\sigma(t)$\n",
    "- 가중치(weights)             : $w1, w2, ..$\n",
    "- 활성화 함수 : 스텝함수 (위 그림에서는 sigmoid 함수를 사용, 아래 코드 참조)"
   ]
  },
  {
   "cell_type": "code",
   "execution_count": 17,
   "metadata": {},
   "outputs": [],
   "source": [
    "# step function\n",
    "def step(x):\n",
    "    if x <= 0:\n",
    "        print(0)\n",
    "    else :\n",
    "        print(1)"
   ]
  },
  {
   "attachments": {},
   "cell_type": "markdown",
   "metadata": {},
   "source": [
    "##### * Bias 가 필요한 이유\n",
    "바이어스가 없는 간단한 예\n",
    "\n",
    "![image.png](https://t1.daumcdn.net/cfile/tistory/272DE34357C7C5BC0A)\n",
    "\n",
    "- w 값에 의해 가파른 정도가 결정되지만 x = 2일때 결과 값이 0 이 나오는 모델을 만들 수 없음\n",
    "- 여기에 바이어스 값을 주면 우측으로 옮길 수 있어서 아래와 같은 모델 만들기가 가능\n",
    "\n",
    "![image.png](https://t1.daumcdn.net/cfile/tistory/22777D3957C7C6372F)\n",
    "\n",
    "- 가중치가 넘어야하는 임계점\n",
    "    - 높으면 분류기준이 엄격 - 모델이 간단해짐\n",
    "    - 낮으면 데이터릐 허용범위가 넓어져 학습데이터에 잘 들어맞음 - 모델이 복잡해짐"
   ]
  },
  {
   "cell_type": "markdown",
   "metadata": {},
   "source": [
    "-----"
   ]
  },
  {
   "cell_type": "markdown",
   "metadata": {},
   "source": [
    "### 2) 퍼셉트론 모형 학습"
   ]
  },
  {
   "cell_type": "markdown",
   "metadata": {},
   "source": [
    "입력 - 출력 - 출력값과 정답의 차이를 계산 (오차율) - 오차가 줄어들도록 가중치 변환"
   ]
  },
  {
   "cell_type": "markdown",
   "metadata": {},
   "source": []
  },
  {
   "cell_type": "markdown",
   "metadata": {},
   "source": []
  },
  {
   "cell_type": "markdown",
   "metadata": {},
   "source": []
  },
  {
   "cell_type": "markdown",
   "metadata": {},
   "source": []
  }
 ],
 "metadata": {
  "kernelspec": {
   "display_name": "Python 3",
   "language": "python",
   "name": "python3"
  },
  "language_info": {
   "codemirror_mode": {
    "name": "ipython",
    "version": 3
   },
   "file_extension": ".py",
   "mimetype": "text/x-python",
   "name": "python",
   "nbconvert_exporter": "python",
   "pygments_lexer": "ipython3",
   "version": "3.8.3"
  }
 },
 "nbformat": 4,
 "nbformat_minor": 4
}
